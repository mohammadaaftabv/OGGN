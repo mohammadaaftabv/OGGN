{
 "cells": [
  {
   "cell_type": "code",
   "execution_count": 5,
   "metadata": {},
   "outputs": [
    {
     "name": "stdout",
     "output_type": "stream",
     "text": [
      "cuda:0\n"
     ]
    }
   ],
   "source": [
    "import torch\n",
    "\n",
    "#imports necessary to define a neural network \n",
    "import torch.nn as nn\n",
    "import torch.nn.functional as F\n",
    "\n",
    "#ensure you are using GPU.\n",
    "if torch.cuda.is_available():  \n",
    "  dev = \"cuda:0\" \n",
    "else:  \n",
    "  dev = \"cpu\"  \n",
    "\n",
    "device = torch.device(dev)\n",
    "print(device)\n",
    "\n",
    "dtype = torch.cuda.FloatTensor"
   ]
  },
  {
   "cell_type": "code",
   "execution_count": 1,
   "metadata": {},
   "outputs": [],
   "source": [
    "a0=9.0\n",
    "a1=8.97\n",
    "a2=0.876\n",
    "\n",
    "def output1(x0,x1,x2):\n",
    "    \n",
    "    out=a0*x0**(2.0)\n",
    "    out=out+a1*x1**(7.8)\n",
    "    out=out+a2*x2**(1.0)\n",
    "    out=out-32.0\n",
    "    \n",
    "    return out"
   ]
  },
  {
   "cell_type": "code",
   "execution_count": 2,
   "metadata": {},
   "outputs": [],
   "source": [
    "a00=12.0\n",
    "a10=9.97\n",
    "a20=10.876\n",
    "\n",
    "def output2(x0,x1,x2):\n",
    "    \n",
    "    out=a00*x0**(3.0)\n",
    "    out=out+a10*x1**(8.0)\n",
    "    out=out+a20*x2**(3.0)\n",
    "    out=out-43.0\n",
    "    \n",
    "    return out"
   ]
  },
  {
   "cell_type": "code",
   "execution_count": 3,
   "metadata": {},
   "outputs": [],
   "source": [
    "def finalloss(x):\n",
    "    \n",
    "    f=torch.empty([len(x),1]).type(dtype)\n",
    "    \n",
    "    for i in range(len(x)):\n",
    "        \n",
    "        x0=x[i][0]\n",
    "        x1=x[i][1]\n",
    "        x2=x[i][2]\n",
    "\n",
    "        f[i][0]=(output1(x0,x1,x2)**2+output2(x0,x1,x2)**2)**(0.5)\n",
    "    \n",
    "    return f"
   ]
  },
  {
   "cell_type": "code",
   "execution_count": 8,
   "metadata": {},
   "outputs": [
    {
     "data": {
      "text/plain": [
       "tensor([[0.0589]], device='cuda:0')"
      ]
     },
     "execution_count": 8,
     "metadata": {},
     "output_type": "execute_result"
    }
   ],
   "source": [
    "finalloss([[1.2279, 1.0952, 0.2624]])"
   ]
  },
  {
   "cell_type": "code",
   "execution_count": 10,
   "metadata": {},
   "outputs": [
    {
     "data": {
      "text/plain": [
       "0.03179880275587266"
      ]
     },
     "execution_count": 10,
     "metadata": {},
     "output_type": "execute_result"
    }
   ],
   "source": [
    "output1(1.2279, 1.0952, 0.2624)"
   ]
  },
  {
   "cell_type": "code",
   "execution_count": 11,
   "metadata": {},
   "outputs": [
    {
     "data": {
      "text/plain": [
       "0.04953657848388815"
      ]
     },
     "execution_count": 11,
     "metadata": {},
     "output_type": "execute_result"
    }
   ],
   "source": [
    "output2(1.2279, 1.0952, 0.2624)"
   ]
  },
  {
   "cell_type": "code",
   "execution_count": 12,
   "metadata": {},
   "outputs": [],
   "source": [
    "a0=9.0\n",
    "a1=8.97\n",
    "a2=0.876\n",
    "a3=2.9876\n",
    "\n",
    "def output(x0,x1,x2,x3):\n",
    "    \n",
    "    out=a0*x0**(0.87)\n",
    "    out=out+a1*x1**(0.020)\n",
    "    out=out+a2*x2**(0.12)\n",
    "    out=out+a3*x3**(0.987)\n",
    "    \n",
    "    return out"
   ]
  },
  {
   "cell_type": "code",
   "execution_count": 13,
   "metadata": {},
   "outputs": [
    {
     "data": {
      "text/plain": [
       "777.5806749586163"
      ]
     },
     "execution_count": 13,
     "metadata": {},
     "output_type": "execute_result"
    }
   ],
   "source": [
    "output(100.0423,   0.0000,  53.7249,100)"
   ]
  },
  {
   "cell_type": "code",
   "execution_count": 15,
   "metadata": {},
   "outputs": [
    {
     "data": {
      "text/plain": [
       "1996.1233781540925"
      ]
     },
     "execution_count": 15,
     "metadata": {},
     "output_type": "execute_result"
    }
   ],
   "source": [
    "output(485.6413,  70.6677,  90.4546,10)"
   ]
  },
  {
   "cell_type": "code",
   "execution_count": 16,
   "metadata": {},
   "outputs": [
    {
     "data": {
      "text/plain": [
       "1911.4097742867534"
      ]
     },
     "execution_count": 16,
     "metadata": {},
     "output_type": "execute_result"
    }
   ],
   "source": [
    "output(224.6277,0,283.2135,328.2939)"
   ]
  },
  {
   "cell_type": "code",
   "execution_count": null,
   "metadata": {},
   "outputs": [],
   "source": []
  }
 ],
 "metadata": {
  "kernelspec": {
   "display_name": "Python 3",
   "language": "python",
   "name": "python3"
  },
  "language_info": {
   "codemirror_mode": {
    "name": "ipython",
    "version": 3
   },
   "file_extension": ".py",
   "mimetype": "text/x-python",
   "name": "python",
   "nbconvert_exporter": "python",
   "pygments_lexer": "ipython3",
   "version": "3.7.6"
  }
 },
 "nbformat": 4,
 "nbformat_minor": 4
}
